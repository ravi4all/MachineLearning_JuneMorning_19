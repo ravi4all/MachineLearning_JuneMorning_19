{
 "cells": [
  {
   "cell_type": "code",
   "execution_count": 7,
   "metadata": {},
   "outputs": [],
   "source": [
    "import io, os\n",
    "import pandas as pd\n",
    "from sklearn.naive_bayes import GaussianNB\n",
    "from sklearn.model_selection import train_test_split\n",
    "from sklearn.metrics import accuracy_score\n",
    "from sklearn.feature_extraction.text import CountVectorizer"
   ]
  },
  {
   "cell_type": "code",
   "execution_count": 6,
   "metadata": {},
   "outputs": [],
   "source": [
    "path = 'emails/'"
   ]
  },
  {
   "cell_type": "code",
   "execution_count": 10,
   "metadata": {},
   "outputs": [],
   "source": [
    "dataFiles = []\n",
    "for root, folder, files in os.walk(path):\n",
    "    for file in files:\n",
    "        dataFiles.append(root+'/'+file)"
   ]
  },
  {
   "cell_type": "code",
   "execution_count": null,
   "metadata": {},
   "outputs": [],
   "source": []
  },
  {
   "cell_type": "code",
   "execution_count": 17,
   "metadata": {},
   "outputs": [
    {
     "name": "stdout",
     "output_type": "stream",
     "text": [
      "From timc@2ubh.com  Thu Aug 22 13:52:59 2002\n",
      "Return-Path: <timc@2ubh.com>\n",
      "Delivered-To: zzzz@localhost.netnoteinc.com\n",
      "Received: from localhost (localhost [127.0.0.1])\n",
      "\tby phobos.labs.netnoteinc.com (Postfix) with ESMTP id 0314547C66\n",
      "\tfor <zzzz@localhost>; Thu, 22 Aug 2002 08:52:58 -0400 (EDT)\n",
      "Received: from phobos [127.0.0.1]\n",
      "\tby localhost with IMAP (fetchmail-5.9.0)\n",
      "\tfor zzzz@localhost (single-drop); Thu, 22 Aug 2002 13:52:59 +0100 (IST)\n",
      "Received: from n16.grp.scd.yahoo.com (n16.grp.scd.yahoo.com\n",
      "    [66.218.66.71]) by dogma.slashnull.org (8.11.6/8.11.6) with SMTP id\n",
      "    g7MCrdZ07070 for <zzzz@spamassassin.taint.org>; Thu, 22 Aug 2002 13:53:39 +0100\n",
      "X-Egroups-Return: sentto-2242572-52733-1030020820-zzzz=spamassassin.taint.org@returns.groups.yahoo.com\n",
      "Received: from [66.218.67.198] by n16.grp.scd.yahoo.com with NNFMP;\n",
      "    22 Aug 2002 12:53:40 -0000\n",
      "X-Sender: timc@2ubh.com\n",
      "X-Apparently-To: zzzzteana@yahoogroups.com\n",
      "Received: (EGP: mail-8_1_0_1); 22 Aug 2002 12:53:39 -0000\n",
      "Received: (qmail 76099 invoked from network); 22 Aug 2002 12:53:39 -0000\n",
      "Received: from unknown (66.218.66.218) by m5.grp.scd.yahoo.com with QMQP;\n",
      "    22 Aug 2002 12:53:39 -0000\n",
      "Received: from unknown (HELO rhenium.btinternet.com) (194.73.73.93) by\n",
      "    mta3.grp.scd.yahoo.com with SMTP; 22 Aug 2002 12:53:39 -0000\n",
      "Received: from host217-36-23-185.in-addr.btopenworld.com ([217.36.23.185])\n",
      "    by rhenium.btinternet.com with esmtp (Exim 3.22 #8) id 17hrT0-0004gj-00\n",
      "    for forteana@yahoogroups.com; Thu, 22 Aug 2002 13:53:38 +0100\n",
      "X-Mailer: Microsoft Outlook Express Macintosh Edition - 4.5 (0410)\n",
      "To: zzzzteana <zzzzteana@yahoogroups.com>\n",
      "X-Priority: 3\n",
      "Message-Id: <E17hrT0-0004gj-00@rhenium.btinternet.com>\n",
      "From: \"Tim Chapman\" <timc@2ubh.com>\n",
      "X-Yahoo-Profile: tim2ubh\n",
      "MIME-Version: 1.0\n",
      "Mailing-List: list zzzzteana@yahoogroups.com; contact\n",
      "    forteana-owner@yahoogroups.com\n",
      "Delivered-To: mailing list zzzzteana@yahoogroups.com\n",
      "Precedence: bulk\n",
      "List-Unsubscribe: <mailto:zzzzteana-unsubscribe@yahoogroups.com>\n",
      "Date: Thu, 22 Aug 2002 13:52:38 +0100\n",
      "Subject: [zzzzteana] Moscow bomber\n",
      "Reply-To: zzzzteana@yahoogroups.com\n",
      "Content-Type: text/plain; charset=US-ASCII\n",
      "Content-Transfer-Encoding: 7bit\n",
      "\n",
      "Man Threatens Explosion In Moscow \n",
      "\n",
      "Thursday August 22, 2002 1:40 PM\n",
      "MOSCOW (AP) - Security officers on Thursday seized an unidentified man who\n",
      "said he was armed with explosives and threatened to blow up his truck in\n",
      "front of Russia's Federal Security Services headquarters in Moscow, NTV\n",
      "television reported.\n",
      "The officers seized an automatic rifle the man was carrying, then the man\n",
      "got out of the truck and was taken into custody, NTV said. No other details\n",
      "were immediately available.\n",
      "The man had demanded talks with high government officials, the Interfax and\n",
      "ITAR-Tass news agencies said. Ekho Moskvy radio reported that he wanted to\n",
      "talk with Russian President Vladimir Putin.\n",
      "Police and security forces rushed to the Security Service building, within\n",
      "blocks of the Kremlin, Red Square and the Bolshoi Ballet, and surrounded the\n",
      "man, who claimed to have one and a half tons of explosives, the news\n",
      "agencies said. Negotiations continued for about one and a half hours outside\n",
      "the building, ITAR-Tass and Interfax reported, citing witnesses.\n",
      "The man later drove away from the building, under police escort, and drove\n",
      "to a street near Moscow's Olympic Penta Hotel, where authorities held\n",
      "further negotiations with him, the Moscow police press service said. The\n",
      "move appeared to be an attempt by security services to get him to a more\n",
      "secure location. \n",
      "\n",
      "------------------------ Yahoo! Groups Sponsor ---------------------~-->\n",
      "4 DVDs Free +s&p Join Now\n",
      "http://us.click.yahoo.com/pt6YBB/NXiEAA/mG3HAA/7gSolB/TM\n",
      "---------------------------------------------------------------------~->\n",
      "\n",
      "To unsubscribe from this group, send an email to:\n",
      "forteana-unsubscribe@egroups.com\n",
      "\n",
      " \n",
      "\n",
      "Your use of Yahoo! Groups is subject to http://docs.yahoo.com/info/terms/ \n",
      "\n",
      "\n",
      "\n",
      "\n"
     ]
    }
   ],
   "source": [
    "file = open(dataFiles[2])\n",
    "data = file.read()\n",
    "print(data)\n",
    "file.close()"
   ]
  },
  {
   "cell_type": "code",
   "execution_count": null,
   "metadata": {},
   "outputs": [],
   "source": []
  }
 ],
 "metadata": {
  "kernelspec": {
   "display_name": "Python 3",
   "language": "python",
   "name": "python3"
  },
  "language_info": {
   "codemirror_mode": {
    "name": "ipython",
    "version": 3
   },
   "file_extension": ".py",
   "mimetype": "text/x-python",
   "name": "python",
   "nbconvert_exporter": "python",
   "pygments_lexer": "ipython3",
   "version": "3.7.3"
  }
 },
 "nbformat": 4,
 "nbformat_minor": 2
}
