{
 "cells": [
  {
   "cell_type": "code",
   "execution_count": 50,
   "metadata": {},
   "outputs": [],
   "source": [
    "from sklearn.datasets import fetch_20newsgroups\n",
    "from sklearn.metrics import accuracy_score\n",
    "from sklearn.naive_bayes import GaussianNB\n",
    "from sklearn.feature_extraction.text import TfidfVectorizer, TfidfTransformer"
   ]
  },
  {
   "cell_type": "code",
   "execution_count": 29,
   "metadata": {},
   "outputs": [],
   "source": [
    "cat = {\n",
    "     'alt.atheism' : \"Atheism\",\n",
    "     'comp.graphics' : \"Graphics\",\n",
    "     'rec.autos' : \"Autos\",\n",
    "     'rec.motorcycles' : \"Motorcycles\",\n",
    "     'rec.sport.hockey' : \"Hockey\",\n",
    "     'sci.electronics' : \"Electronics\",\n",
    "     'sci.med' : \"Medical\",\n",
    "     'sci.space' : \"Space\",\n",
    "     'soc.religion.christian' : \"Religion\",\n",
    "     'talk.politics.guns' : \"Politics and Guns\"\n",
    "}\n",
    "\n",
    "train = fetch_20newsgroups(subset='train', categories=cat)\n",
    "test = fetch_20newsgroups(subset='test', categories=cat)"
   ]
  },
  {
   "cell_type": "code",
   "execution_count": 30,
   "metadata": {},
   "outputs": [
    {
     "data": {
      "text/plain": [
       "dict_keys(['data', 'filenames', 'target_names', 'target', 'DESCR'])"
      ]
     },
     "execution_count": 30,
     "metadata": {},
     "output_type": "execute_result"
    }
   ],
   "source": [
    "train.keys()"
   ]
  },
  {
   "cell_type": "code",
   "execution_count": 31,
   "metadata": {},
   "outputs": [],
   "source": [
    "train_data = train.data"
   ]
  },
  {
   "cell_type": "code",
   "execution_count": 32,
   "metadata": {},
   "outputs": [],
   "source": [
    "test_data = test.data"
   ]
  },
  {
   "cell_type": "code",
   "execution_count": 33,
   "metadata": {},
   "outputs": [],
   "source": [
    "y_train = train.target"
   ]
  },
  {
   "cell_type": "code",
   "execution_count": 34,
   "metadata": {},
   "outputs": [
    {
     "data": {
      "text/plain": [
       "2"
      ]
     },
     "execution_count": 34,
     "metadata": {},
     "output_type": "execute_result"
    }
   ],
   "source": [
    "y_train[0]"
   ]
  },
  {
   "cell_type": "code",
   "execution_count": 35,
   "metadata": {},
   "outputs": [
    {
     "data": {
      "text/plain": [
       "'rec.autos'"
      ]
     },
     "execution_count": 35,
     "metadata": {},
     "output_type": "execute_result"
    }
   ],
   "source": [
    "train.target_names[2]"
   ]
  },
  {
   "cell_type": "code",
   "execution_count": 36,
   "metadata": {},
   "outputs": [
    {
     "data": {
      "text/plain": [
       "array([2, 8, 1, ..., 6, 0, 8], dtype=int64)"
      ]
     },
     "execution_count": 36,
     "metadata": {},
     "output_type": "execute_result"
    }
   ],
   "source": [
    "y_train"
   ]
  },
  {
   "cell_type": "code",
   "execution_count": 37,
   "metadata": {},
   "outputs": [
    {
     "data": {
      "text/plain": [
       "'From: tmspence@bronze.ucs.indiana.edu (thomas morris spencer)\\nSubject: Are there any Honda groups?\\nNntp-Posting-Host: bronze.ucs.indiana.edu\\nOrganization: Indiana University\\nDistribution: na\\nLines: 6\\n\\n\\n\\nAre there any Honda groups out there?  Especially ones that deal with\\nPreludes?\\n\\nTom Spencer\\n'"
      ]
     },
     "execution_count": 37,
     "metadata": {},
     "output_type": "execute_result"
    }
   ],
   "source": [
    "train_data[0]"
   ]
  },
  {
   "cell_type": "code",
   "execution_count": 38,
   "metadata": {},
   "outputs": [],
   "source": [
    "tfidf = TfidfVectorizer()"
   ]
  },
  {
   "cell_type": "code",
   "execution_count": 39,
   "metadata": {},
   "outputs": [],
   "source": [
    "x_train = tfidf.fit_transform(train_data)"
   ]
  },
  {
   "cell_type": "code",
   "execution_count": 40,
   "metadata": {},
   "outputs": [],
   "source": [
    "x_train = x_train.toarray()"
   ]
  },
  {
   "cell_type": "code",
   "execution_count": 41,
   "metadata": {},
   "outputs": [],
   "source": [
    "nb = GaussianNB()"
   ]
  },
  {
   "cell_type": "code",
   "execution_count": 42,
   "metadata": {},
   "outputs": [
    {
     "data": {
      "text/plain": [
       "GaussianNB(priors=None, var_smoothing=1e-09)"
      ]
     },
     "execution_count": 42,
     "metadata": {},
     "output_type": "execute_result"
    }
   ],
   "source": [
    "nb.fit(x_train, y_train)"
   ]
  },
  {
   "cell_type": "code",
   "execution_count": 43,
   "metadata": {},
   "outputs": [],
   "source": [
    "x_test = tfidf.transform(test_data)\n",
    "x_test = x_test.toarray()\n",
    "y_pred = nb.predict(x_test)"
   ]
  },
  {
   "cell_type": "code",
   "execution_count": 45,
   "metadata": {},
   "outputs": [
    {
     "data": {
      "text/plain": [
       "0.8302132085283411"
      ]
     },
     "execution_count": 45,
     "metadata": {},
     "output_type": "execute_result"
    }
   ],
   "source": [
    "y_test = test.target\n",
    "accuracy_score(y_test, y_pred)"
   ]
  },
  {
   "cell_type": "code",
   "execution_count": 59,
   "metadata": {},
   "outputs": [],
   "source": [
    "input_data = [\n",
    "    \"Shortly after the Space Race began, an early objective was to get a person into Earth orbit as soon as possible, therefore the simplest spacecraft that could be launched by existing rockets was favored. The US Air Force's Man in Space Soonest program considered many manned spacecraft designs, ranging from rocket planes like the X-15, to small ballistic space capsules. By 1958, the space plane concepts were eliminated in favor of the ballistic capsule.\",\n",
    "    \"2017 KTM 390 Duke gets the new full-LED headlamp cluster that comes with an angular design complementing the bike's profile, as well as a LED tail light and indicators. There is a bigger 13.5 litre fuel tank in place, replacing the former 11.5 litre unit and will help offer a much better range on the model. In addition, there are a tonne of subtle upgrades including wider rearview mirrors, softer seat cushioning, adjustable levers, CANBUS system, E-Vap unit and new and more durable H rated Metzeler M5 Interact tyres. The 2017 390 Duke is Euro 4 compliant and as a result, also comes with ride-by-wire and a side mounted exhaust to meet the stringent emission norms. The bulk of changes has added nearly 7 kg to the overall weight of the motorcycle.\"\n",
    "]"
   ]
  },
  {
   "cell_type": "code",
   "execution_count": 60,
   "metadata": {},
   "outputs": [],
   "source": [
    "input_data_tf = tfidf.transform(input_data)"
   ]
  },
  {
   "cell_type": "code",
   "execution_count": 61,
   "metadata": {},
   "outputs": [
    {
     "data": {
      "text/plain": [
       "<2x65999 sparse matrix of type '<class 'numpy.float64'>'\n",
       "\twith 144 stored elements in Compressed Sparse Row format>"
      ]
     },
     "execution_count": 61,
     "metadata": {},
     "output_type": "execute_result"
    }
   ],
   "source": [
    "input_data_tf"
   ]
  },
  {
   "cell_type": "code",
   "execution_count": 62,
   "metadata": {},
   "outputs": [],
   "source": [
    "data = input_data_tf.toarray()"
   ]
  },
  {
   "cell_type": "code",
   "execution_count": 63,
   "metadata": {},
   "outputs": [
    {
     "data": {
      "text/plain": [
       "array([[0., 0., 0., ..., 0., 0., 0.],\n",
       "       [0., 0., 0., ..., 0., 0., 0.]])"
      ]
     },
     "execution_count": 63,
     "metadata": {},
     "output_type": "execute_result"
    }
   ],
   "source": [
    "data"
   ]
  },
  {
   "cell_type": "code",
   "execution_count": 64,
   "metadata": {},
   "outputs": [],
   "source": [
    "pred = nb.predict(data)"
   ]
  },
  {
   "cell_type": "code",
   "execution_count": 66,
   "metadata": {},
   "outputs": [
    {
     "data": {
      "text/plain": [
       "'alt.atheism'"
      ]
     },
     "execution_count": 66,
     "metadata": {},
     "output_type": "execute_result"
    }
   ],
   "source": [
    "cat[train.target_names[0]]"
   ]
  },
  {
   "cell_type": "code",
   "execution_count": 68,
   "metadata": {},
   "outputs": [
    {
     "name": "stdout",
     "output_type": "stream",
     "text": [
      "Review :  Shortly after the Space Race began, an early objective was to get a person into Earth orbit as soon as possible, therefore the simplest spacecraft that could be launched by existing rockets was favored. The US Air Force's Man in Space Soonest program considered many manned spacecraft designs, ranging from rocket planes like the X-15, to small ballistic space capsules. By 1958, the space plane concepts were eliminated in favor of the ballistic capsule.\n",
      "Prediction is  Space\n",
      "------------------------\n",
      "Review :  2017 KTM 390 Duke gets the new full-LED headlamp cluster that comes with an angular design complementing the bike's profile, as well as a LED tail light and indicators. There is a bigger 13.5 litre fuel tank in place, replacing the former 11.5 litre unit and will help offer a much better range on the model. In addition, there are a tonne of subtle upgrades including wider rearview mirrors, softer seat cushioning, adjustable levers, CANBUS system, E-Vap unit and new and more durable H rated Metzeler M5 Interact tyres. The 2017 390 Duke is Euro 4 compliant and as a result, also comes with ride-by-wire and a side mounted exhaust to meet the stringent emission norms. The bulk of changes has added nearly 7 kg to the overall weight of the motorcycle.\n",
      "Prediction is  Autos\n",
      "------------------------\n"
     ]
    }
   ],
   "source": [
    "for prediction, rev in zip(pred, input_data):\n",
    "    print(\"Review : \",rev)\n",
    "    print(\"Prediction is \",cat[train.target_names[prediction]])\n",
    "    print(\"------------------------\")"
   ]
  },
  {
   "cell_type": "code",
   "execution_count": null,
   "metadata": {},
   "outputs": [],
   "source": []
  }
 ],
 "metadata": {
  "kernelspec": {
   "display_name": "Python 3",
   "language": "python",
   "name": "python3"
  },
  "language_info": {
   "codemirror_mode": {
    "name": "ipython",
    "version": 3
   },
   "file_extension": ".py",
   "mimetype": "text/x-python",
   "name": "python",
   "nbconvert_exporter": "python",
   "pygments_lexer": "ipython3",
   "version": "3.7.3"
  }
 },
 "nbformat": 4,
 "nbformat_minor": 2
}
