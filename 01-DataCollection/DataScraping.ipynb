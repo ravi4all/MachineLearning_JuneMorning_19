{
 "cells": [
  {
   "cell_type": "code",
   "execution_count": 1,
   "metadata": {},
   "outputs": [],
   "source": [
    "# Beautiful Soup4\n",
    "import bs4\n",
    "import urllib.request as url"
   ]
  },
  {
   "cell_type": "code",
   "execution_count": 2,
   "metadata": {},
   "outputs": [],
   "source": [
    "path = 'https://www.flipkart.com/search?q=headphones&otracker=AS_Query_HistoryAutoSuggest_4_0&otracker1=AS_Query_HistoryAutoSuggest_4_0&marketplace=FLIPKART&as-show=on&as=off&as-pos=4&as-type=HISTORY&as-backfill=on'\n",
    "http = url.urlopen(path)"
   ]
  },
  {
   "cell_type": "code",
   "execution_count": 3,
   "metadata": {},
   "outputs": [
    {
     "data": {
      "text/plain": [
       "<http.client.HTTPResponse at 0x183aeadeb38>"
      ]
     },
     "execution_count": 3,
     "metadata": {},
     "output_type": "execute_result"
    }
   ],
   "source": [
    "http"
   ]
  },
  {
   "cell_type": "code",
   "execution_count": 4,
   "metadata": {},
   "outputs": [],
   "source": [
    "page = bs4.BeautifulSoup(http)"
   ]
  },
  {
   "cell_type": "code",
   "execution_count": 6,
   "metadata": {},
   "outputs": [],
   "source": [
    "title = page.find('a', class_='_2cLu-l')"
   ]
  },
  {
   "cell_type": "code",
   "execution_count": 8,
   "metadata": {},
   "outputs": [
    {
     "data": {
      "text/plain": [
       "'boAt BassHeads 100 Wired Headset with Mic'"
      ]
     },
     "execution_count": 8,
     "metadata": {},
     "output_type": "execute_result"
    }
   ],
   "source": [
    "title.text"
   ]
  },
  {
   "cell_type": "code",
   "execution_count": 9,
   "metadata": {},
   "outputs": [],
   "source": [
    "titles = page.find_all('a', class_='_2cLu-l')"
   ]
  },
  {
   "cell_type": "code",
   "execution_count": 11,
   "metadata": {},
   "outputs": [
    {
     "name": "stdout",
     "output_type": "stream",
     "text": [
      "boAt BassHeads 100 Wired Headset with Mic\n",
      "Mi Basic Wired Headset with Mic\n",
      "Mi Basic Wired Headset with Mic\n",
      "GetfitPro i7S Wireless Stereo Earbuds for Smartphones B...\n",
      "boAt Rockerz 255F Bluetooth Headset with Mic\n",
      "boAt BassHeads 220 Super Extra Bass Wired Headset with ...\n",
      "boAt Rockerz 255F Bluetooth Headset with Mic\n",
      "JBL T160 Wired Headset with Mic\n",
      "JBL C150SI Wired Headset with Mic\n",
      "Flipkart SmartBuy Rich Bass Wired Metal Headset With Mi...\n",
      "boAt BassHeads 220 Super Extra Bass Wired Headset with ...\n",
      "Sony 310AP Wired Headset with Mic\n",
      "boAt Rockerz 255F Bluetooth Headset with Mic\n",
      "MAXCO Stylish Mini Earbud Bluetooth Headset with Mic\n",
      "boAt Rockerz 400 Super Extra Bass Bluetooth Headset wit...\n",
      "Skullcandy Ink'd Headset with mic\n",
      "boAt Rockerz 510 Super Extra Bass Bluetooth Headset wit...\n",
      "boAt BassHeads 900 Super Extra Bass Wired Headset with ...\n",
      "Oxhox HBS-730 Wireless compatible with 4G redmi Headset...\n",
      "LANIX Wireless i7s Twins Earbud With 1 Connect 2 Functi...\n",
      "Philips SHE1505 Wired Headset with Mic\n",
      "JBL T160 Wired Headset with Mic\n",
      "boAt Rockerz 510 Super Extra Bass Bluetooth Headset wit...\n",
      "LECO Mini Ear Buds Music Bluetooth Headset with Mic\n",
      "Sony ZX110A Wired Headphone\n",
      "Bumhe Magnetic Bluetooth Headset with Mic\n",
      "JBL T160BT Bluetooth Headset with Mic\n",
      "Samsung Level U Bluetooth Headset with Mic\n",
      "JBL T450BT Extra Bass Bluetooth Headset with Mic\n",
      "LECO Wireless Stereo Bluetooth Mono Headset Headphone E...\n",
      "Mi Wired Headset with Mic\n",
      "Philips SHE1515BK/94/IN-SHE1515BK/94 Wired Headset with...\n",
      "Skullcandy Ink'd Bluetooth Headset with Mic\n",
      "Mivi Saxo Bluetooth Headset with Mic\n",
      "Boult Audio BassBuds Storm Wired Headset with Mic\n",
      "Sony XB450 Wired Headphone\n",
      "Sony 310AP Wired Headset with Mic\n",
      "boAt Nirvaanaa Bliss Wired Headset with Mic\n",
      "Sony XB55AP Wired Headset with Mic\n",
      "LECO Compatible in-Ear Single Stereo Mini Wireless Blue...\n"
     ]
    }
   ],
   "source": [
    "for item in titles:\n",
    "    print(item.text)"
   ]
  },
  {
   "cell_type": "code",
   "execution_count": null,
   "metadata": {},
   "outputs": [],
   "source": []
  }
 ],
 "metadata": {
  "kernelspec": {
   "display_name": "Python 3",
   "language": "python",
   "name": "python3"
  },
  "language_info": {
   "codemirror_mode": {
    "name": "ipython",
    "version": 3
   },
   "file_extension": ".py",
   "mimetype": "text/x-python",
   "name": "python",
   "nbconvert_exporter": "python",
   "pygments_lexer": "ipython3",
   "version": "3.7.3"
  }
 },
 "nbformat": 4,
 "nbformat_minor": 2
}
