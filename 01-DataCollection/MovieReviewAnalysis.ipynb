{
 "cells": [
  {
   "cell_type": "code",
   "execution_count": 1,
   "metadata": {},
   "outputs": [],
   "source": [
    "import bs4\n",
    "import urllib.request as url"
   ]
  },
  {
   "cell_type": "code",
   "execution_count": 2,
   "metadata": {},
   "outputs": [
    {
     "name": "stdout",
     "output_type": "stream",
     "text": [
      "Enter movie name : baahubali\n"
     ]
    }
   ],
   "source": [
    "movieName = input(\"Enter movie name : \")\n",
    "path_1 = \"https://www.imdb.com/find?ref_=nv_sr_fn&q=\"\n",
    "http = url.urlopen(path_1 + movieName)"
   ]
  },
  {
   "cell_type": "code",
   "execution_count": 3,
   "metadata": {},
   "outputs": [],
   "source": [
    "page = bs4.BeautifulSoup(http)"
   ]
  },
  {
   "cell_type": "code",
   "execution_count": 6,
   "metadata": {},
   "outputs": [],
   "source": [
    "td = page.find('td',class_='result_text')"
   ]
  },
  {
   "cell_type": "code",
   "execution_count": 9,
   "metadata": {},
   "outputs": [],
   "source": [
    "a = td.find('a')"
   ]
  },
  {
   "cell_type": "code",
   "execution_count": 15,
   "metadata": {},
   "outputs": [
    {
     "data": {
      "text/plain": [
       "'/title/tt2631186/'"
      ]
     },
     "execution_count": 15,
     "metadata": {},
     "output_type": "execute_result"
    }
   ],
   "source": [
    "a.attrs['href']"
   ]
  },
  {
   "cell_type": "code",
   "execution_count": 16,
   "metadata": {},
   "outputs": [],
   "source": [
    "newUrl = 'https://www.imdb.com' + a.attrs['href']"
   ]
  },
  {
   "cell_type": "code",
   "execution_count": 17,
   "metadata": {},
   "outputs": [],
   "source": [
    "http = url.urlopen(newUrl)"
   ]
  },
  {
   "cell_type": "code",
   "execution_count": 18,
   "metadata": {},
   "outputs": [],
   "source": [
    "newPage = bs4.BeautifulSoup(http)"
   ]
  },
  {
   "cell_type": "code",
   "execution_count": 19,
   "metadata": {},
   "outputs": [],
   "source": [
    "div = newPage.find('div', class_='title_wrapper')"
   ]
  },
  {
   "cell_type": "code",
   "execution_count": 20,
   "metadata": {},
   "outputs": [
    {
     "data": {
      "text/plain": [
       "'\\nBahubali: The Beginning\\xa0(2015) \\n\\n                    UA\\n    | \\n                        2h 39min\\n                    \\n|\\nAction, \\nDrama\\n|\\n10 July 2015 (India)\\n \\n'"
      ]
     },
     "execution_count": 20,
     "metadata": {},
     "output_type": "execute_result"
    }
   ],
   "source": [
    "div.text"
   ]
  },
  {
   "cell_type": "code",
   "execution_count": 21,
   "metadata": {},
   "outputs": [],
   "source": [
    "text = div.text.split()"
   ]
  },
  {
   "cell_type": "code",
   "execution_count": 22,
   "metadata": {},
   "outputs": [
    {
     "data": {
      "text/plain": [
       "['Bahubali:',\n",
       " 'The',\n",
       " 'Beginning',\n",
       " '(2015)',\n",
       " 'UA',\n",
       " '|',\n",
       " '2h',\n",
       " '39min',\n",
       " '|',\n",
       " 'Action,',\n",
       " 'Drama',\n",
       " '|',\n",
       " '10',\n",
       " 'July',\n",
       " '2015',\n",
       " '(India)']"
      ]
     },
     "execution_count": 22,
     "metadata": {},
     "output_type": "execute_result"
    }
   ],
   "source": [
    "text"
   ]
  },
  {
   "cell_type": "code",
   "execution_count": 24,
   "metadata": {},
   "outputs": [],
   "source": [
    "movie = ' '.join(text)"
   ]
  },
  {
   "cell_type": "code",
   "execution_count": 25,
   "metadata": {},
   "outputs": [
    {
     "name": "stdout",
     "output_type": "stream",
     "text": [
      "Bahubali: The Beginning (2015) UA | 2h 39min | Action, Drama | 10 July 2015 (India)\n"
     ]
    }
   ],
   "source": [
    "print(movie)"
   ]
  },
  {
   "cell_type": "code",
   "execution_count": 26,
   "metadata": {},
   "outputs": [
    {
     "data": {
      "text/plain": [
       "['Bahubali: The Beginning (2015) UA ',\n",
       " ' 2h 39min ',\n",
       " ' Action, Drama ',\n",
       " ' 10 July 2015 (India)']"
      ]
     },
     "execution_count": 26,
     "metadata": {},
     "output_type": "execute_result"
    }
   ],
   "source": [
    "movie.split('|')"
   ]
  },
  {
   "cell_type": "code",
   "execution_count": 27,
   "metadata": {},
   "outputs": [],
   "source": [
    "links = newPage.find_all('a', class_='quicklink')"
   ]
  },
  {
   "cell_type": "code",
   "execution_count": 30,
   "metadata": {},
   "outputs": [],
   "source": [
    "reviewHref = links[2]['href']"
   ]
  },
  {
   "cell_type": "code",
   "execution_count": 31,
   "metadata": {},
   "outputs": [
    {
     "data": {
      "text/plain": [
       "'/title/tt2631186/reviews'"
      ]
     },
     "execution_count": 31,
     "metadata": {},
     "output_type": "execute_result"
    }
   ],
   "source": [
    "reviewHref"
   ]
  },
  {
   "cell_type": "code",
   "execution_count": 32,
   "metadata": {},
   "outputs": [],
   "source": [
    "newUrl_2 = 'https://www.imdb.com' + reviewHref"
   ]
  },
  {
   "cell_type": "code",
   "execution_count": 33,
   "metadata": {},
   "outputs": [],
   "source": [
    "http = url.urlopen(newUrl_2)"
   ]
  },
  {
   "cell_type": "code",
   "execution_count": 34,
   "metadata": {},
   "outputs": [],
   "source": [
    "newPage_2 = bs4.BeautifulSoup(http)"
   ]
  },
  {
   "cell_type": "code",
   "execution_count": 35,
   "metadata": {},
   "outputs": [],
   "source": [
    "revTitle = newPage_2.find_all('a', class_='title')"
   ]
  },
  {
   "cell_type": "code",
   "execution_count": 36,
   "metadata": {},
   "outputs": [
    {
     "name": "stdout",
     "output_type": "stream",
     "text": [
      " Baahubali is Indian Grand Spectacle\n",
      "\n",
      " A new bench mark for Indian Cinema!!!\n",
      "\n",
      " A superb visual treat.\n",
      "\n",
      " This one is a Visual Wonder!\n",
      "\n",
      " Baahubali...(An Indian - Hollywood movie) Proud to be an Indian\n",
      "\n",
      " Rajamouli leaves his mark.. conclusion awaits\n",
      "\n",
      " Baahubali Movie Review – Masterpiece filled with the epic- marvellous graphics\n",
      "\n",
      " Just don't miss this one\n",
      "\n",
      " evidence for improvement in standards for Indian cinema\n",
      "\n",
      " Valiant effort but lacks content\n",
      "\n",
      " Awestuck\n",
      "\n",
      " A Review for American Viewers\n",
      "\n",
      " This is not Sparta!! This is Bahubali !!!!! EPIC!!\n",
      "\n",
      " Beginning of the real Indian cinema\n",
      "\n",
      " Don't waste your 3 hours\n",
      "\n",
      " i had a big laugh watching this movie\n",
      "\n",
      " Poor content ,some good VFX/graphics only(Spoiler Alert)\n",
      "\n",
      " A movie which stopped my brain to work\n",
      "\n",
      " Pure garbage. Worst CGI ever. Pathetic star cast n acting.\n",
      "\n",
      " Copied from different sources...Copied pretty well\n",
      "\n",
      " A pre-historic king is saved from the hands of obscurity by Indian cinema.\n",
      "\n",
      " Cliché elevated from Gutter to BlockBuster by Fanboys.\n",
      "\n",
      " Why\n",
      "\n",
      " An awful awful movie.\n",
      "\n",
      " The most stupid movie of the decade. Worse than Ram gopal verma ki aag.\n",
      "\n"
     ]
    }
   ],
   "source": [
    "for item in revTitle:\n",
    "    print(item.text)"
   ]
  },
  {
   "cell_type": "code",
   "execution_count": 51,
   "metadata": {},
   "outputs": [],
   "source": [
    "rating = newPage_2.find_all('span', class_='rating-other-user-rating')"
   ]
  },
  {
   "cell_type": "code",
   "execution_count": 52,
   "metadata": {},
   "outputs": [],
   "source": [
    "span = rating[0].find('span')"
   ]
  },
  {
   "cell_type": "code",
   "execution_count": 53,
   "metadata": {},
   "outputs": [
    {
     "data": {
      "text/plain": [
       "25"
      ]
     },
     "execution_count": 53,
     "metadata": {},
     "output_type": "execute_result"
    }
   ],
   "source": [
    "len(rating)"
   ]
  },
  {
   "cell_type": "code",
   "execution_count": 55,
   "metadata": {},
   "outputs": [
    {
     "data": {
      "text/plain": [
       "25"
      ]
     },
     "execution_count": 55,
     "metadata": {},
     "output_type": "execute_result"
    }
   ],
   "source": [
    "len(revTitle)"
   ]
  },
  {
   "cell_type": "code",
   "execution_count": 56,
   "metadata": {},
   "outputs": [],
   "source": [
    "usersData = {}\n",
    "user = []\n",
    "rating_ = []\n",
    "review = []\n",
    "for i in range(len(revTitle)):\n",
    "    user.append('user_{}'.format(i))\n",
    "    rating_.append(rating[i].find('span').text)\n",
    "    review.append(revTitle[i].text)\n",
    "    usersData['users'] = user\n",
    "    usersData['review'] = review\n",
    "    usersData['rating'] = rating_"
   ]
  },
  {
   "cell_type": "code",
   "execution_count": 58,
   "metadata": {},
   "outputs": [],
   "source": [
    "import pandas as pd"
   ]
  },
  {
   "cell_type": "code",
   "execution_count": 59,
   "metadata": {},
   "outputs": [],
   "source": [
    "df = pd.DataFrame(usersData)"
   ]
  },
  {
   "cell_type": "code",
   "execution_count": 60,
   "metadata": {},
   "outputs": [
    {
     "data": {
      "text/html": [
       "<div>\n",
       "<style scoped>\n",
       "    .dataframe tbody tr th:only-of-type {\n",
       "        vertical-align: middle;\n",
       "    }\n",
       "\n",
       "    .dataframe tbody tr th {\n",
       "        vertical-align: top;\n",
       "    }\n",
       "\n",
       "    .dataframe thead th {\n",
       "        text-align: right;\n",
       "    }\n",
       "</style>\n",
       "<table border=\"1\" class=\"dataframe\">\n",
       "  <thead>\n",
       "    <tr style=\"text-align: right;\">\n",
       "      <th></th>\n",
       "      <th>users</th>\n",
       "      <th>review</th>\n",
       "      <th>rating</th>\n",
       "    </tr>\n",
       "  </thead>\n",
       "  <tbody>\n",
       "    <tr>\n",
       "      <th>0</th>\n",
       "      <td>user_0</td>\n",
       "      <td>Baahubali is Indian Grand Spectacle\\n</td>\n",
       "      <td>8</td>\n",
       "    </tr>\n",
       "    <tr>\n",
       "      <th>1</th>\n",
       "      <td>user_1</td>\n",
       "      <td>A new bench mark for Indian Cinema!!!\\n</td>\n",
       "      <td>9</td>\n",
       "    </tr>\n",
       "    <tr>\n",
       "      <th>2</th>\n",
       "      <td>user_2</td>\n",
       "      <td>A superb visual treat.\\n</td>\n",
       "      <td>10</td>\n",
       "    </tr>\n",
       "    <tr>\n",
       "      <th>3</th>\n",
       "      <td>user_3</td>\n",
       "      <td>This one is a Visual Wonder!\\n</td>\n",
       "      <td>8</td>\n",
       "    </tr>\n",
       "    <tr>\n",
       "      <th>4</th>\n",
       "      <td>user_4</td>\n",
       "      <td>Baahubali...(An Indian - Hollywood movie) Pro...</td>\n",
       "      <td>10</td>\n",
       "    </tr>\n",
       "    <tr>\n",
       "      <th>5</th>\n",
       "      <td>user_5</td>\n",
       "      <td>Rajamouli leaves his mark.. conclusion awaits\\n</td>\n",
       "      <td>10</td>\n",
       "    </tr>\n",
       "    <tr>\n",
       "      <th>6</th>\n",
       "      <td>user_6</td>\n",
       "      <td>Baahubali Movie Review – Masterpiece filled w...</td>\n",
       "      <td>9</td>\n",
       "    </tr>\n",
       "    <tr>\n",
       "      <th>7</th>\n",
       "      <td>user_7</td>\n",
       "      <td>Just don't miss this one\\n</td>\n",
       "      <td>10</td>\n",
       "    </tr>\n",
       "    <tr>\n",
       "      <th>8</th>\n",
       "      <td>user_8</td>\n",
       "      <td>evidence for improvement in standards for Ind...</td>\n",
       "      <td>10</td>\n",
       "    </tr>\n",
       "    <tr>\n",
       "      <th>9</th>\n",
       "      <td>user_9</td>\n",
       "      <td>Valiant effort but lacks content\\n</td>\n",
       "      <td>5</td>\n",
       "    </tr>\n",
       "    <tr>\n",
       "      <th>10</th>\n",
       "      <td>user_10</td>\n",
       "      <td>Awestuck\\n</td>\n",
       "      <td>10</td>\n",
       "    </tr>\n",
       "    <tr>\n",
       "      <th>11</th>\n",
       "      <td>user_11</td>\n",
       "      <td>A Review for American Viewers\\n</td>\n",
       "      <td>3</td>\n",
       "    </tr>\n",
       "    <tr>\n",
       "      <th>12</th>\n",
       "      <td>user_12</td>\n",
       "      <td>This is not Sparta!! This is Bahubali !!!!! E...</td>\n",
       "      <td>10</td>\n",
       "    </tr>\n",
       "    <tr>\n",
       "      <th>13</th>\n",
       "      <td>user_13</td>\n",
       "      <td>Beginning of the real Indian cinema\\n</td>\n",
       "      <td>10</td>\n",
       "    </tr>\n",
       "    <tr>\n",
       "      <th>14</th>\n",
       "      <td>user_14</td>\n",
       "      <td>Don't waste your 3 hours\\n</td>\n",
       "      <td>1</td>\n",
       "    </tr>\n",
       "    <tr>\n",
       "      <th>15</th>\n",
       "      <td>user_15</td>\n",
       "      <td>i had a big laugh watching this movie\\n</td>\n",
       "      <td>1</td>\n",
       "    </tr>\n",
       "    <tr>\n",
       "      <th>16</th>\n",
       "      <td>user_16</td>\n",
       "      <td>Poor content ,some good VFX/graphics only(Spo...</td>\n",
       "      <td>1</td>\n",
       "    </tr>\n",
       "    <tr>\n",
       "      <th>17</th>\n",
       "      <td>user_17</td>\n",
       "      <td>A movie which stopped my brain to work\\n</td>\n",
       "      <td>1</td>\n",
       "    </tr>\n",
       "    <tr>\n",
       "      <th>18</th>\n",
       "      <td>user_18</td>\n",
       "      <td>Pure garbage. Worst CGI ever. Pathetic star c...</td>\n",
       "      <td>1</td>\n",
       "    </tr>\n",
       "    <tr>\n",
       "      <th>19</th>\n",
       "      <td>user_19</td>\n",
       "      <td>Copied from different sources...Copied pretty...</td>\n",
       "      <td>1</td>\n",
       "    </tr>\n",
       "    <tr>\n",
       "      <th>20</th>\n",
       "      <td>user_20</td>\n",
       "      <td>A pre-historic king is saved from the hands o...</td>\n",
       "      <td>1</td>\n",
       "    </tr>\n",
       "    <tr>\n",
       "      <th>21</th>\n",
       "      <td>user_21</td>\n",
       "      <td>Cliché elevated from Gutter to BlockBuster by...</td>\n",
       "      <td>3</td>\n",
       "    </tr>\n",
       "    <tr>\n",
       "      <th>22</th>\n",
       "      <td>user_22</td>\n",
       "      <td>Why\\n</td>\n",
       "      <td>1</td>\n",
       "    </tr>\n",
       "    <tr>\n",
       "      <th>23</th>\n",
       "      <td>user_23</td>\n",
       "      <td>An awful awful movie.\\n</td>\n",
       "      <td>1</td>\n",
       "    </tr>\n",
       "    <tr>\n",
       "      <th>24</th>\n",
       "      <td>user_24</td>\n",
       "      <td>The most stupid movie of the decade. Worse th...</td>\n",
       "      <td>1</td>\n",
       "    </tr>\n",
       "  </tbody>\n",
       "</table>\n",
       "</div>"
      ],
      "text/plain": [
       "      users                                             review rating\n",
       "0    user_0              Baahubali is Indian Grand Spectacle\\n      8\n",
       "1    user_1            A new bench mark for Indian Cinema!!!\\n      9\n",
       "2    user_2                           A superb visual treat.\\n     10\n",
       "3    user_3                     This one is a Visual Wonder!\\n      8\n",
       "4    user_4   Baahubali...(An Indian - Hollywood movie) Pro...     10\n",
       "5    user_5    Rajamouli leaves his mark.. conclusion awaits\\n     10\n",
       "6    user_6   Baahubali Movie Review – Masterpiece filled w...      9\n",
       "7    user_7                         Just don't miss this one\\n     10\n",
       "8    user_8   evidence for improvement in standards for Ind...     10\n",
       "9    user_9                 Valiant effort but lacks content\\n      5\n",
       "10  user_10                                         Awestuck\\n     10\n",
       "11  user_11                    A Review for American Viewers\\n      3\n",
       "12  user_12   This is not Sparta!! This is Bahubali !!!!! E...     10\n",
       "13  user_13              Beginning of the real Indian cinema\\n     10\n",
       "14  user_14                         Don't waste your 3 hours\\n      1\n",
       "15  user_15            i had a big laugh watching this movie\\n      1\n",
       "16  user_16   Poor content ,some good VFX/graphics only(Spo...      1\n",
       "17  user_17           A movie which stopped my brain to work\\n      1\n",
       "18  user_18   Pure garbage. Worst CGI ever. Pathetic star c...      1\n",
       "19  user_19   Copied from different sources...Copied pretty...      1\n",
       "20  user_20   A pre-historic king is saved from the hands o...      1\n",
       "21  user_21   Cliché elevated from Gutter to BlockBuster by...      3\n",
       "22  user_22                                              Why\\n      1\n",
       "23  user_23                            An awful awful movie.\\n      1\n",
       "24  user_24   The most stupid movie of the decade. Worse th...      1"
      ]
     },
     "execution_count": 60,
     "metadata": {},
     "output_type": "execute_result"
    }
   ],
   "source": [
    "df"
   ]
  },
  {
   "cell_type": "code",
   "execution_count": null,
   "metadata": {},
   "outputs": [],
   "source": []
  }
 ],
 "metadata": {
  "kernelspec": {
   "display_name": "Python 3",
   "language": "python",
   "name": "python3"
  },
  "language_info": {
   "codemirror_mode": {
    "name": "ipython",
    "version": 3
   },
   "file_extension": ".py",
   "mimetype": "text/x-python",
   "name": "python",
   "nbconvert_exporter": "python",
   "pygments_lexer": "ipython3",
   "version": "3.7.3"
  }
 },
 "nbformat": 4,
 "nbformat_minor": 2
}
